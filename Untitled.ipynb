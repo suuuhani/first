{
 "cells": [
  {
   "cell_type": "code",
   "execution_count": 4,
   "id": "6fa8d4fa-b168-4ada-b271-da3679495be9",
   "metadata": {},
   "outputs": [],
   "source": [
    "import numpy as np\n",
    "import time\n",
    "import matplotlib.pyplot as plt\n",
    "%matplotlib inline\n"
   ]
  },
  {
   "cell_type": "code",
   "execution_count": 6,
   "id": "d383fe9c-5b59-4d0f-9321-2078fceb0e68",
   "metadata": {},
   "outputs": [],
   "source": [
    "def convert(imgf, labelf, outf, n):\n",
    "    f = open(imgf, \"rb\")\n",
    "    o = open(outf, \"w\")\n",
    "    l = open(labelf, \"rb\")\n",
    "\n",
    "    f.read(16)\n",
    "    l.read(8)\n",
    "    images = []\n",
    "\n",
    "    for i in range(n):\n",
    "        image = [ord(l.read(1))]\n",
    "        for j in range(28*28):\n",
    "            image.append(ord(f.read(1)))\n",
    "        images.append(image)\n",
    "\n",
    "    for image in images:\n",
    "        o.write(\",\".join(str(pix) for pix in image)+\"\\n\")\n",
    "    f.close()\n",
    "    o.close()\n",
    "    l.close()"
   ]
  },
  {
   "cell_type": "code",
   "execution_count": 8,
   "id": "77b4a365-4e68-43c0-b768-e348811f10a5",
   "metadata": {},
   "outputs": [],
   "source": [
    "convert(\"train-images.idx3-ubyte\", \"train-labels.idx1-ubyte\",\n",
    "        \"mnist_train.csv\", 60000)\n",
    "convert(\"t10k-images.idx3-ubyte\", \"t10k-labels.idx1-ubyte\",\n",
    "        \"mnist_test.csv\", 10000)"
   ]
  },
  {
   "cell_type": "code",
   "execution_count": 9,
   "id": "271cb75f-a0eb-48a2-82cc-9a8d10cfd5c3",
   "metadata": {},
   "outputs": [],
   "source": [
    "train_file = open(\"mnist_train.csv\", 'r')\n",
    "train_list = train_file.readlines()\n",
    "train_file.close()"
   ]
  },
  {
   "cell_type": "code",
   "execution_count": 10,
   "id": "d9dd1949-0e81-4c18-85cf-53092b009689",
   "metadata": {},
   "outputs": [
    {
     "data": {
      "text/plain": [
       "60000"
      ]
     },
     "execution_count": 10,
     "metadata": {},
     "output_type": "execute_result"
    }
   ],
   "source": [
    "\n",
    "len(train_list)\n",
    "     "
   ]
  },
  {
   "cell_type": "code",
   "execution_count": 11,
   "id": "6a1e15a2-2a4a-49e3-af67-a2bd1b19b067",
   "metadata": {},
   "outputs": [
    {
     "data": {
      "text/plain": [
       "'5,0,0,0,0,0,0,0,0,0,0,0,0,0,0,0,0,0,0,0,0,0,0,0,0,0,0,0,0,0,0,0,0,0,0,0,0,0,0,0,0,0,0,0,0,0,0,0,0,0,0,0,0,0,0,0,0,0,0,0,0,0,0,0,0,0,0,0,0,0,0,0,0,0,0,0,0,0,0,0,0,0,0,0,0,0,0,0,0,0,0,0,0,0,0,0,0,0,0,0,0,0,0,0,0,0,0,0,0,0,0,0,0,0,0,0,0,0,0,0,0,0,0,0,0,0,0,0,0,0,0,0,0,0,0,0,0,0,0,0,0,0,0,0,0,0,0,0,0,0,0,0,0,0,0,0,0,0,0,0,0,0,0,0,0,0,0,0,0,0,0,0,0,0,0,0,0,0,0,0,0,0,2,18,46,136,136,244,255,241,103,0,0,0,0,0,0,0,0,0,0,0,0,0,0,0,0,0,15,94,163,253,253,253,253,238,218,204,35,0,0,0,0,0,0,0,0,0,0,0,0,0,0,0,0,0,131,253,253,253,253,237,200,57,0,0,0,0,0,0,0,0,0,0,0,0,0,0,0,0,0,0,0,155,246,253,247,108,65,45,0,0,0,0,0,0,0,0,0,0,0,0,0,0,0,0,0,0,0,0,0,207,253,253,230,0,0,0,0,0,0,0,0,0,0,0,0,0,0,0,0,0,0,0,0,0,0,0,0,157,253,253,125,0,0,0,0,0,0,0,0,0,0,0,0,0,0,0,0,0,0,0,0,0,0,0,0,89,253,250,57,0,0,0,0,0,0,0,0,0,0,0,0,0,0,0,0,0,0,0,0,0,0,0,0,89,253,247,0,0,0,0,0,0,0,0,0,0,0,0,0,0,0,0,0,0,0,0,0,0,0,0,0,89,253,247,0,0,0,0,0,0,0,0,0,0,0,0,0,0,0,0,0,0,0,0,0,0,0,0,0,89,253,247,0,0,0,0,0,0,0,0,0,0,0,0,0,0,0,0,0,0,0,0,0,0,0,0,0,21,231,249,34,0,0,0,0,0,0,0,0,0,0,0,0,0,0,0,0,0,0,0,0,0,0,0,0,0,225,253,231,213,213,123,16,0,0,0,0,0,0,0,0,0,0,0,0,0,0,0,0,0,0,0,0,0,172,253,253,253,253,253,190,63,0,0,0,0,0,0,0,0,0,0,0,0,0,0,0,0,0,0,0,0,2,116,72,124,209,253,253,141,0,0,0,0,0,0,0,0,0,0,0,0,0,0,0,0,0,0,0,0,0,0,0,0,25,219,253,206,3,0,0,0,0,0,0,0,0,0,0,0,0,0,0,0,0,0,0,0,0,0,0,0,0,104,246,253,5,0,0,0,0,0,0,0,0,0,0,0,0,0,0,0,0,0,0,0,0,0,0,0,0,0,213,253,5,0,0,0,0,0,0,0,0,0,0,0,0,0,0,0,0,0,0,0,0,0,0,0,0,26,226,253,5,0,0,0,0,0,0,0,0,0,0,0,0,0,0,0,0,0,0,0,0,0,0,0,0,132,253,209,3,0,0,0,0,0,0,0,0,0,0,0,0,0,0,0,0,0,0,0,0,0,0,0,0,78,253,86,0,0,0,0,0,0,0,0,0,0,0,0,0,0,0,0,0,0,0,0,0,0,0,0,0,0,0,0,0,0,0,0,0,0,0,0,0,0,0,0,0,0,0,0,0,0,0,0,0,0,0,0,0,0,0,0,0,0,0,0,0,0,0,0,0\\n'"
      ]
     },
     "execution_count": 11,
     "metadata": {},
     "output_type": "execute_result"
    }
   ],
   "source": [
    "train_list[100]"
   ]
  },
  {
   "cell_type": "code",
   "execution_count": 12,
   "id": "a5b7ba72-c92f-4068-822e-33d7fbfb4dc7",
   "metadata": {},
   "outputs": [
    {
     "data": {
      "image/png": "[encoded data removed]",
      "text/plain": [
       "<Figure size 640x480 with 1 Axes>"
      ]
     },
     "metadata": {},
     "output_type": "display_data"
    }
   ],
   "source": [
    "all_values = train_list[100].split(',')\n",
    "image_array = np.asfarray(all_values[1:]).reshape((28,28))\n",
    "plt.imshow(image_array, cmap='Greys', interpolation='None')\n",
    "plt.show()\n",
    "     "
   ]
  },
  {
   "cell_type": "code",
   "execution_count": 13,
   "id": "01997882-abb2-457c-82cb-c28505218196",
   "metadata": {},
   "outputs": [],
   "source": [
    "scaled_input_train = (np.asfarray(all_values[1:]) / 255.0 * 0.99) + 0.01\n",
    "\n",
    "     "
   ]
  },
  {
   "cell_type": "code",
   "execution_count": 14,
   "id": "84e8e1e7-47f0-48a0-952a-bcdaad463a0e",
   "metadata": {},
   "outputs": [],
   "source": [
    "test_file = open(\"mnist_test.csv\", 'r')\n",
    "test_list = test_file.readlines()\n",
    "test_file.close()"
   ]
  },
  {
   "cell_type": "code",
   "execution_count": 15,
   "id": "c9047881-a68b-40bb-a64a-30ec596a9f96",
   "metadata": {},
   "outputs": [
    {
     "data": {
      "image/png": "[encoded data removed]",
      "text/plain": [
       "<Figure size 640x480 with 1 Axes>"
      ]
     },
     "metadata": {},
     "output_type": "display_data"
    }
   ],
   "source": [
    "all_values = test_list[100].split(',')\n",
    "image_array = np.asfarray(all_values[1:]).reshape((28,28))\n",
    "plt.imshow(image_array, cmap='Greys', interpolation='None')\n",
    "plt.show()\n",
    "     "
   ]
  },
  {
   "cell_type": "code",
   "execution_count": 48,
   "id": "193a02cf-3ff6-4349-a00e-94f86a4534dd",
   "metadata": {},
   "outputs": [],
   "source": [
    "class DNN:\n",
    "    def __init__(self, sizes, epochs, lr):\n",
    "        self.sizes = sizes\n",
    "        self.epochs = epochs\n",
    "        self.lr = lr\n",
    "\n",
    "        # number of nodes in a layer\n",
    "        input_layer=self.sizes[0]\n",
    "        hidden_1=self.sizes[1]\n",
    "        hidden_2=self.sizes[2]\n",
    "        output_layer=self.sizes[3]\n",
    "    \n",
    "        self.params = {\n",
    "            'W1':np.random.randn(hidden_1, input_layer) * np.sqrt(1. / hidden_1),\n",
    "            'W2':np.random.randn(hidden_2, hidden_1) * np.sqrt(1. / hidden_2),\n",
    "            'W3':np.random.randn(output_layer, hidden_2) * np.sqrt(1. / output_layer)\n",
    "    }\n",
    "    def sigmoid(self, x, derivative=False):\n",
    "      if derivative:\n",
    "          return (np.exp(-x))/((np.exp(-x)+1)**2)\n",
    "      return 1/(1 + np.exp(-x))\n",
    "\n",
    "    def softmax(self, x, derivative=False):\n",
    "      # Numerically stable with large exponentials\n",
    "      exps = np.exp(x - x.max())\n",
    "      if derivative:\n",
    "          return exps / np.sum(exps, axis=0) * (1 - exps / np.sum(exps, axis=0))\n",
    "      return exps / np.sum(exps, axis=0)\n",
    "    def forward_pass(self, x_train):\n",
    "      params = self.params\n",
    "\n",
    "      # input layer activations becomes sample\n",
    "      params['A0'] = x_train\n",
    "\n",
    "      # input layer to hidden layer 1\n",
    "      params['Z1'] = np.dot(params[\"W1\"], params['A0'])\n",
    "      params['A1'] = self.sigmoid(params['Z1'])\n",
    "\n",
    "      # hidden layer 1 to hidden layer 2\n",
    "      params['Z2'] = np.dot(params[\"W2\"], params['A1'])\n",
    "      params['A2'] = self.sigmoid(params['Z2'])\n",
    "\n",
    "      # hidden layer 2 to output layer\n",
    "      params['Z3'] = np.dot(params[\"W3\"], params['A2'])\n",
    "      params['A3'] = self.softmax(params['Z3'])\n",
    "\n",
    "      return params['A3']\n",
    "    def backward_pass(self, y_train, output):\n",
    "     \n",
    "      params = self.params\n",
    "      change_w = {}\n",
    "\n",
    "      # Calculate W3 update\n",
    "      error = 2 * (output - y_train) / output.shape[0] * self.softmax(params['Z3'], derivative=True)\n",
    "      change_w['W3'] = np.outer(error, params['A2'])\n",
    "\n",
    "      # Calculate W2 update\n",
    "      error = np.dot(params['W3'].T, error) * self.sigmoid(params['Z2'], derivative=True)\n",
    "      change_w['W2'] = np.outer(error, params['A1'])\n",
    "     # Calculate W1 update\n",
    "      error = np.dot(params['W2'].T, error) * self.sigmoid(params['Z1'], derivative=True)\n",
    "      change_w['W1'] = np.outer(error, params['A0'])\n",
    "\n",
    "      return change_w\n",
    "\n",
    "    def update_network_parameters(self, changes_to_w):\n",
    "      \n",
    "      \n",
    "      for key, value in changes_to_w.items():\n",
    "          self.params[key] -= self.lr * value\n",
    "    def compute_accuracy(self, test_data, output_nodes):\n",
    "     \n",
    "      predictions = []\n",
    "\n",
    "      for x in train_list:\n",
    "          all_values = x.split(',')\n",
    "          \n",
    "          inputs = (np.asfarray(all_values[1:]) / 255.0 * 0.99) + 0.01\n",
    "          \n",
    "          targets = np.zeros(output_nodes) + 0.01\n",
    "          \n",
    "          targets[int(all_values[0])] = 0.99\n",
    "          output = self.forward_pass(inputs)\n",
    "          pred = np.argmax(output)\n",
    "          predictions.append(pred == np.argmax(targets))\n",
    "      \n",
    "      return np.mean(predictions)\n",
    "    \n",
    "    def train(self, train_list, test_list, output_nodes):\n",
    "      start_time = time.time()\n",
    "      for iteration in range(self.epochs):\n",
    "          for x in train_list:\n",
    "              all_values = x.split(',')\n",
    "              \n",
    "              inputs = (np.asfarray(all_values[1:]) / 255.0 * 0.99) + 0.01\n",
    "              \n",
    "              targets = np.zeros(output_nodes) + 0.01\n",
    "              \n",
    "              targets[int(all_values[0])] = 0.99\n",
    "              output = self.forward_pass(inputs)\n",
    "              changes_to_w = self.backward_pass(targets, output)\n",
    "              self.update_network_parameters(changes_to_w)\n",
    "          \n",
    "          accuracy = self.compute_accuracy(test_list, output_nodes)\n",
    "          print('Epoch: {0}, Time Spent: {1:.2f}s, Accuracy: {2:.2f}%'.format(\n",
    "              iteration+1, time.time() - start_time, accuracy * 100\n",
    "          ))"
   ]
  },
  {
   "cell_type": "code",
   "execution_count": 50,
   "id": "9d208f2c-867d-455a-a139-5ea560ace35b",
   "metadata": {},
   "outputs": [
    {
     "name": "stdout",
     "output_type": "stream",
     "text": [
      "Epoch: 1, Time Spent: 94.48s, Accuracy: 34.04%\n",
      "Epoch: 2, Time Spent: 187.82s, Accuracy: 40.16%\n",
      "Epoch: 3, Time Spent: 279.23s, Accuracy: 43.90%\n",
      "Epoch: 4, Time Spent: 373.02s, Accuracy: 48.29%\n",
      "Epoch: 5, Time Spent: 466.80s, Accuracy: 51.37%\n",
      "Epoch: 6, Time Spent: 565.79s, Accuracy: 53.07%\n",
      "Epoch: 7, Time Spent: 658.98s, Accuracy: 54.05%\n",
      "Epoch: 8, Time Spent: 753.60s, Accuracy: 54.91%\n",
      "Epoch: 9, Time Spent: 846.91s, Accuracy: 55.86%\n",
      "Epoch: 10, Time Spent: 941.47s, Accuracy: 56.99%\n"
     ]
    }
   ],
   "source": [
    "dnn = DNN(sizes=[784, 128, 64, 10], epochs=10, lr=0.001)\n",
    "dnn.train(train_list, test_list, 10)"
   ]
  },
  {
   "cell_type": "code",
   "execution_count": null,
   "id": "138930b5-7d49-43a4-b125-9ce91883d29a",
   "metadata": {},
   "outputs": [],
   "source": []
  }
 ],
 "metadata": {
  "kernelspec": {
   "display_name": "Python [conda env:base] *",
   "language": "python",
   "name": "conda-base-py"
  },
  "language_info": {
   "codemirror_mode": {
    "name": "ipython",
    "version": 3
   },
   "file_extension": ".py",
   "mimetype": "text/x-python",
   "name": "python",
   "nbconvert_exporter": "python",
   "pygments_lexer": "ipython3",
   "version": "3.12.7"
  }
 },
 "nbformat": 4,
 "nbformat_minor": 5
}
